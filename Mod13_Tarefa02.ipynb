{
 "cells": [
  {
   "cell_type": "markdown",
   "metadata": {},
   "source": [
    "<img src=\"https://raw.githubusercontent.com/rhatiro/Curso_EBAC-Profissao_Cientista_de_Dados/main/ebac-course-utils/media/logo/newebac_logo_black_half.png\" alt=\"ebac-logo\">\n",
    "\n",
    "---\n",
    "\n",
    "# **Profissão: Cientista de Dados**\n",
    "### **Módulo 13** | Exercício 2 | Regressão Múltipla\n",
    "\n",
    "Aluno [Lays Félix](https://www.linkedin.com/in/laysfelixbusiness)<br>\n",
    "Data: 02 de julho de 2024\n",
    "\n",
    "---"
   ]
  },
  {
   "cell_type": "markdown",
   "metadata": {},
   "source": [
    "#### Previsão de renda II\n",
    "\n",
    "Vamos continuar trabalhando com a base 'previsao_de_renda.csv', que é a base do seu próximo projeto. Vamos usar os recursos que vimos até aqui nesta base.\n",
    "\n",
    "|variavel|descrição|\n",
    "|-|-|\n",
    "|data_ref                | Data de referência de coleta das variáveis |\n",
    "|index                   | Código de identificação do cliente|\n",
    "|sexo                    | Sexo do cliente|\n",
    "|posse_de_veiculo        | Indica se o cliente possui veículo|\n",
    "|posse_de_imovel         | Indica se o cliente possui imóvel|\n",
    "|qtd_filhos              | Quantidade de filhos do cliente|\n",
    "|tipo_renda              | Tipo de renda do cliente|\n",
    "|educacao                | Grau de instrução do cliente|\n",
    "|estado_civil            | Estado civil do cliente|\n",
    "|tipo_residencia         | Tipo de residência do cliente (própria, alugada etc)|\n",
    "|idade                   | Idade do cliente|\n",
    "|tempo_emprego           | Tempo no emprego atual|\n",
    "|qt_pessoas_residencia   | Quantidade de pessoas que moram na residência|\n",
    "|renda                   | Renda em reais|"
   ]
  },
  {
   "cell_type": "code",
   "execution_count": 1,
   "metadata": {},
   "outputs": [],
   "source": [
    "import numpy as np\n",
    "import pandas as pd\n",
    "import patsy\n",
    "\n",
    "import matplotlib.pyplot as plt\n",
    "import seaborn as sns\n",
    "\n",
    "import patsy\n",
    "import statsmodels.api as sm\n",
    "import statsmodels.formula.api as smf\n",
    "\n",
    "from sklearn.model_selection import train_test_split\n",
    "from sklearn.tree import DecisionTreeRegressor\n",
    "from sklearn.metrics import r2_score"
   ]
  },
  {
   "cell_type": "code",
   "execution_count": 2,
   "metadata": {},
   "outputs": [],
   "source": [
    "prev_renda = pd.read_csv('previsao_de_renda.csv')"
   ]
  },
  {
   "cell_type": "code",
   "execution_count": 3,
   "metadata": {},
   "outputs": [
    {
     "name": "stdout",
     "output_type": "stream",
     "text": [
      "<class 'pandas.core.frame.DataFrame'>\n",
      "RangeIndex: 15000 entries, 0 to 14999\n",
      "Data columns (total 15 columns):\n",
      " #   Column                 Non-Null Count  Dtype  \n",
      "---  ------                 --------------  -----  \n",
      " 0   Unnamed: 0             15000 non-null  int64  \n",
      " 1   data_ref               15000 non-null  object \n",
      " 2   id_cliente             15000 non-null  int64  \n",
      " 3   sexo                   15000 non-null  object \n",
      " 4   posse_de_veiculo       15000 non-null  bool   \n",
      " 5   posse_de_imovel        15000 non-null  bool   \n",
      " 6   qtd_filhos             15000 non-null  int64  \n",
      " 7   tipo_renda             15000 non-null  object \n",
      " 8   educacao               15000 non-null  object \n",
      " 9   estado_civil           15000 non-null  object \n",
      " 10  tipo_residencia        15000 non-null  object \n",
      " 11  idade                  15000 non-null  int64  \n",
      " 12  tempo_emprego          12427 non-null  float64\n",
      " 13  qt_pessoas_residencia  15000 non-null  float64\n",
      " 14  renda                  15000 non-null  float64\n",
      "dtypes: bool(2), float64(3), int64(4), object(6)\n",
      "memory usage: 1.5+ MB\n"
     ]
    }
   ],
   "source": [
    "prev_renda.info()"
   ]
  },
  {
   "cell_type": "markdown",
   "metadata": {},
   "source": [
    "1. Separe a base em treinamento e teste (25% para teste, 75% para treinamento).\n",
    "2. Rode uma regularização *ridge* com alpha = [0, 0.001, 0.005, 0.01, 0.05, 0.1] e avalie o $R^2$ na base de testes. Qual o melhor modelo?\n",
    "3. Faça o mesmo que no passo 2, com uma regressão *LASSO*. Qual método chega a um melhor resultado?\n",
    "4. Rode um modelo *stepwise*. Avalie o $R^2$ na vase de testes. Qual o melhor resultado?\n",
    "5. Compare os parâmetros e avalie eventuais diferenças. Qual modelo você acha o melhor de todos?\n",
    "6. Partindo dos modelos que você ajustou, tente melhorar o $R^2$ na base de testes. Use a criatividade, veja se consegue inserir alguma transformação ou combinação de variáveis.\n",
    "7. Ajuste uma árvore de regressão e veja se consegue um $R^2$ melhor com ela."
   ]
  },
  {
   "cell_type": "code",
   "execution_count": 4,
   "metadata": {},
   "outputs": [],
   "source": [
    "# exclui unnamed, id_cliente e data_ref\n",
    "X = prev_renda.drop(['Unnamed: 0', 'data_ref', 'id_cliente'], axis=1)"
   ]
  },
  {
   "cell_type": "code",
   "execution_count": 5,
   "metadata": {},
   "outputs": [
    {
     "data": {
      "text/html": [
       "<div>\n",
       "<style scoped>\n",
       "    .dataframe tbody tr th:only-of-type {\n",
       "        vertical-align: middle;\n",
       "    }\n",
       "\n",
       "    .dataframe tbody tr th {\n",
       "        vertical-align: top;\n",
       "    }\n",
       "\n",
       "    .dataframe thead th {\n",
       "        text-align: right;\n",
       "    }\n",
       "</style>\n",
       "<table border=\"1\" class=\"dataframe\">\n",
       "  <thead>\n",
       "    <tr style=\"text-align: right;\">\n",
       "      <th></th>\n",
       "      <th>sexo</th>\n",
       "      <th>posse_de_veiculo</th>\n",
       "      <th>posse_de_imovel</th>\n",
       "      <th>qtd_filhos</th>\n",
       "      <th>tipo_renda</th>\n",
       "      <th>educacao</th>\n",
       "      <th>estado_civil</th>\n",
       "      <th>tipo_residencia</th>\n",
       "      <th>idade</th>\n",
       "      <th>tempo_emprego</th>\n",
       "      <th>qt_pessoas_residencia</th>\n",
       "      <th>renda</th>\n",
       "    </tr>\n",
       "  </thead>\n",
       "  <tbody>\n",
       "    <tr>\n",
       "      <th>0</th>\n",
       "      <td>F</td>\n",
       "      <td>False</td>\n",
       "      <td>True</td>\n",
       "      <td>0</td>\n",
       "      <td>Empresário</td>\n",
       "      <td>Secundário</td>\n",
       "      <td>Solteiro</td>\n",
       "      <td>Casa</td>\n",
       "      <td>26</td>\n",
       "      <td>6.602740</td>\n",
       "      <td>1.0</td>\n",
       "      <td>8060.34</td>\n",
       "    </tr>\n",
       "    <tr>\n",
       "      <th>1</th>\n",
       "      <td>M</td>\n",
       "      <td>True</td>\n",
       "      <td>True</td>\n",
       "      <td>0</td>\n",
       "      <td>Assalariado</td>\n",
       "      <td>Superior completo</td>\n",
       "      <td>Casado</td>\n",
       "      <td>Casa</td>\n",
       "      <td>28</td>\n",
       "      <td>7.183562</td>\n",
       "      <td>2.0</td>\n",
       "      <td>1852.15</td>\n",
       "    </tr>\n",
       "    <tr>\n",
       "      <th>2</th>\n",
       "      <td>F</td>\n",
       "      <td>True</td>\n",
       "      <td>True</td>\n",
       "      <td>0</td>\n",
       "      <td>Empresário</td>\n",
       "      <td>Superior completo</td>\n",
       "      <td>Casado</td>\n",
       "      <td>Casa</td>\n",
       "      <td>35</td>\n",
       "      <td>0.838356</td>\n",
       "      <td>2.0</td>\n",
       "      <td>2253.89</td>\n",
       "    </tr>\n",
       "    <tr>\n",
       "      <th>3</th>\n",
       "      <td>F</td>\n",
       "      <td>False</td>\n",
       "      <td>True</td>\n",
       "      <td>1</td>\n",
       "      <td>Servidor público</td>\n",
       "      <td>Superior completo</td>\n",
       "      <td>Casado</td>\n",
       "      <td>Casa</td>\n",
       "      <td>30</td>\n",
       "      <td>4.846575</td>\n",
       "      <td>3.0</td>\n",
       "      <td>6600.77</td>\n",
       "    </tr>\n",
       "    <tr>\n",
       "      <th>4</th>\n",
       "      <td>M</td>\n",
       "      <td>True</td>\n",
       "      <td>False</td>\n",
       "      <td>0</td>\n",
       "      <td>Assalariado</td>\n",
       "      <td>Secundário</td>\n",
       "      <td>Solteiro</td>\n",
       "      <td>Governamental</td>\n",
       "      <td>33</td>\n",
       "      <td>4.293151</td>\n",
       "      <td>1.0</td>\n",
       "      <td>6475.97</td>\n",
       "    </tr>\n",
       "  </tbody>\n",
       "</table>\n",
       "</div>"
      ],
      "text/plain": [
       "  sexo  posse_de_veiculo  posse_de_imovel  qtd_filhos        tipo_renda  \\\n",
       "0    F             False             True           0        Empresário   \n",
       "1    M              True             True           0       Assalariado   \n",
       "2    F              True             True           0        Empresário   \n",
       "3    F             False             True           1  Servidor público   \n",
       "4    M              True            False           0       Assalariado   \n",
       "\n",
       "            educacao estado_civil tipo_residencia  idade  tempo_emprego  \\\n",
       "0         Secundário     Solteiro            Casa     26       6.602740   \n",
       "1  Superior completo       Casado            Casa     28       7.183562   \n",
       "2  Superior completo       Casado            Casa     35       0.838356   \n",
       "3  Superior completo       Casado            Casa     30       4.846575   \n",
       "4         Secundário     Solteiro   Governamental     33       4.293151   \n",
       "\n",
       "   qt_pessoas_residencia    renda  \n",
       "0                    1.0  8060.34  \n",
       "1                    2.0  1852.15  \n",
       "2                    2.0  2253.89  \n",
       "3                    3.0  6600.77  \n",
       "4                    1.0  6475.97  "
      ]
     },
     "execution_count": 5,
     "metadata": {},
     "output_type": "execute_result"
    }
   ],
   "source": [
    "X.head()"
   ]
  },
  {
   "cell_type": "markdown",
   "metadata": {},
   "source": [
    "1. Separe a base em treinamento e teste (25% para teste, 75% para treinamento)."
   ]
  },
  {
   "cell_type": "code",
   "execution_count": 6,
   "metadata": {},
   "outputs": [],
   "source": [
    "# Definindo o target\n",
    "y = prev_renda['renda']"
   ]
  },
  {
   "cell_type": "code",
   "execution_count": 7,
   "metadata": {},
   "outputs": [
    {
     "data": {
      "text/plain": [
       "0    8060.34\n",
       "1    1852.15\n",
       "2    2253.89\n",
       "3    6600.77\n",
       "4    6475.97\n",
       "Name: renda, dtype: float64"
      ]
     },
     "execution_count": 7,
     "metadata": {},
     "output_type": "execute_result"
    }
   ],
   "source": [
    "y.head()"
   ]
  },
  {
   "cell_type": "code",
   "execution_count": 8,
   "metadata": {},
   "outputs": [],
   "source": [
    "# Definindo a proporção de teste e treinamento\n",
    "\n",
    "prev_renda_train, prev_renda_test = train_test_split(prev_renda, test_size=0.25, random_state=100)"
   ]
  },
  {
   "cell_type": "code",
   "execution_count": 9,
   "metadata": {},
   "outputs": [],
   "source": [
    "modelo = '''renda ~ sexo \n",
    "                    + posse_de_veiculo \n",
    "                    + posse_de_imovel \n",
    "                    + qtd_filhos \n",
    "                    + tipo_renda \n",
    "                    + educacao \n",
    "                    + estado_civil \n",
    "                    + tipo_residencia \n",
    "                    + idade \n",
    "                    + tempo_emprego \n",
    "                    + qt_pessoas_residencia\n",
    "                    '''\n",
    "\n",
    "y_train, X_train = patsy.dmatrices(formula_like=modelo, data=prev_renda_train)\n",
    "y_test, X_test = patsy.dmatrices(formula_like=modelo, data=prev_renda_test)"
   ]
  },
  {
   "cell_type": "markdown",
   "metadata": {},
   "source": [
    "2. Rode uma regularização ridge com alpha = [0, 0.001, 0.005, 0.01, 0.05, 0.1] e avalie o  𝑅2 na base de testes. Qual o melhor modelo?"
   ]
  },
  {
   "cell_type": "code",
   "execution_count": 17,
   "metadata": {},
   "outputs": [
    {
     "name": "stdout",
     "output_type": "stream",
     "text": [
      "Alpha 0: \n",
      "R-squared = 0.2994510060587443\n",
      "\n",
      "Alpha 0.001: \n",
      "R-squared = 0.29941838203390936\n",
      "\n",
      "Alpha 0.005: \n",
      "R-squared = 0.2991127065652508\n",
      "\n",
      "Alpha 0.01: \n",
      "R-squared = 0.2987142447364981\n",
      "\n",
      "Alpha 0.05: \n",
      "R-squared = 0.29436799479772535\n",
      "\n",
      "Alpha 0.1: \n",
      "R-squared = 0.2870648054133397\n",
      "\n"
     ]
    },
    {
     "data": {
      "text/html": [
       "<div>\n",
       "<style scoped>\n",
       "    .dataframe tbody tr th:only-of-type {\n",
       "        vertical-align: middle;\n",
       "    }\n",
       "\n",
       "    .dataframe tbody tr th {\n",
       "        vertical-align: top;\n",
       "    }\n",
       "\n",
       "    .dataframe thead th {\n",
       "        text-align: right;\n",
       "    }\n",
       "</style>\n",
       "<table border=\"1\" class=\"dataframe\">\n",
       "  <thead>\n",
       "    <tr style=\"text-align: right;\">\n",
       "      <th></th>\n",
       "      <th>alpha</th>\n",
       "      <th>𝑅2</th>\n",
       "    </tr>\n",
       "  </thead>\n",
       "  <tbody>\n",
       "    <tr>\n",
       "      <th>0</th>\n",
       "      <td>0.000</td>\n",
       "      <td>0.299451</td>\n",
       "    </tr>\n",
       "    <tr>\n",
       "      <th>1</th>\n",
       "      <td>0.001</td>\n",
       "      <td>0.299418</td>\n",
       "    </tr>\n",
       "    <tr>\n",
       "      <th>2</th>\n",
       "      <td>0.005</td>\n",
       "      <td>0.299113</td>\n",
       "    </tr>\n",
       "    <tr>\n",
       "      <th>3</th>\n",
       "      <td>0.010</td>\n",
       "      <td>0.298714</td>\n",
       "    </tr>\n",
       "    <tr>\n",
       "      <th>4</th>\n",
       "      <td>0.050</td>\n",
       "      <td>0.294368</td>\n",
       "    </tr>\n",
       "    <tr>\n",
       "      <th>5</th>\n",
       "      <td>0.100</td>\n",
       "      <td>0.287065</td>\n",
       "    </tr>\n",
       "  </tbody>\n",
       "</table>\n",
       "</div>"
      ],
      "text/plain": [
       "   alpha        𝑅2\n",
       "0  0.000  0.299451\n",
       "1  0.001  0.299418\n",
       "2  0.005  0.299113\n",
       "3  0.010  0.298714\n",
       "4  0.050  0.294368\n",
       "5  0.100  0.287065"
      ]
     },
     "execution_count": 17,
     "metadata": {},
     "output_type": "execute_result"
    }
   ],
   "source": [
    "alphas = [0, 0.001, 0.005, 0.01, 0.05, 0.1]\n",
    "r2_y_pred = []\n",
    "\n",
    "for alpha in alphas:\n",
    "    md = sm.OLS(y_test, X_test)\n",
    "    reg = md.fit_regularized(method='elastic_net', \n",
    "                             refit=True, \n",
    "                             L1_wt=0,  # ridge fit\n",
    "                             alpha=alpha)\n",
    "    y_pred = reg.predict(X_test)\n",
    "    r2 = r2_score(y_test, y_pred)\n",
    "    \n",
    "    r2_y_pred.append(r2)\n",
    "    print(f'Alpha {alpha}: \\nR-squared = {r2}\\n')\n",
    "    \n",
    "pd.DataFrame({'alpha':alphas, \n",
    "              '𝑅2':r2_y_pred\n",
    "             }).sort_values(by='𝑅2', ascending=False)"
   ]
  },
  {
   "cell_type": "markdown",
   "metadata": {},
   "source": [
    "O que obteve o melhor modelo é o que teve valor de alpha igual a 0.000, resultando em um R² de 0.299451, pois teve o coeficiente de determinação maior entre os modelos de regressão testados com regularização RIDGE."
   ]
  },
  {
   "cell_type": "markdown",
   "metadata": {},
   "source": [
    "3. Faça o mesmo que no passo 2, com uma regressão LASSO. Qual método chega a um melhor resultado?"
   ]
  },
  {
   "cell_type": "code",
   "execution_count": 18,
   "metadata": {},
   "outputs": [
    {
     "name": "stdout",
     "output_type": "stream",
     "text": [
      "Alpha 0: \n",
      "R-squared = 0.2994510060587444\n",
      "\n",
      "Alpha 0.001: \n",
      "R-squared = 0.2994510060587444\n",
      "\n",
      "Alpha 0.005: \n",
      "R-squared = 0.2994510060587444\n",
      "\n",
      "Alpha 0.01: \n",
      "R-squared = 0.2994510060587444\n",
      "\n",
      "Alpha 0.05: \n",
      "R-squared = 0.2994510060587444\n",
      "\n",
      "Alpha 0.1: \n",
      "R-squared = 0.2994510060587444\n",
      "\n"
     ]
    },
    {
     "data": {
      "text/html": [
       "<div>\n",
       "<style scoped>\n",
       "    .dataframe tbody tr th:only-of-type {\n",
       "        vertical-align: middle;\n",
       "    }\n",
       "\n",
       "    .dataframe tbody tr th {\n",
       "        vertical-align: top;\n",
       "    }\n",
       "\n",
       "    .dataframe thead th {\n",
       "        text-align: right;\n",
       "    }\n",
       "</style>\n",
       "<table border=\"1\" class=\"dataframe\">\n",
       "  <thead>\n",
       "    <tr style=\"text-align: right;\">\n",
       "      <th></th>\n",
       "      <th>alpha</th>\n",
       "      <th>𝑅2</th>\n",
       "    </tr>\n",
       "  </thead>\n",
       "  <tbody>\n",
       "    <tr>\n",
       "      <th>0</th>\n",
       "      <td>0.000</td>\n",
       "      <td>0.299451</td>\n",
       "    </tr>\n",
       "    <tr>\n",
       "      <th>1</th>\n",
       "      <td>0.001</td>\n",
       "      <td>0.299451</td>\n",
       "    </tr>\n",
       "    <tr>\n",
       "      <th>2</th>\n",
       "      <td>0.005</td>\n",
       "      <td>0.299451</td>\n",
       "    </tr>\n",
       "    <tr>\n",
       "      <th>3</th>\n",
       "      <td>0.010</td>\n",
       "      <td>0.299451</td>\n",
       "    </tr>\n",
       "    <tr>\n",
       "      <th>4</th>\n",
       "      <td>0.050</td>\n",
       "      <td>0.299451</td>\n",
       "    </tr>\n",
       "    <tr>\n",
       "      <th>5</th>\n",
       "      <td>0.100</td>\n",
       "      <td>0.299451</td>\n",
       "    </tr>\n",
       "  </tbody>\n",
       "</table>\n",
       "</div>"
      ],
      "text/plain": [
       "   alpha        𝑅2\n",
       "0  0.000  0.299451\n",
       "1  0.001  0.299451\n",
       "2  0.005  0.299451\n",
       "3  0.010  0.299451\n",
       "4  0.050  0.299451\n",
       "5  0.100  0.299451"
      ]
     },
     "execution_count": 18,
     "metadata": {},
     "output_type": "execute_result"
    }
   ],
   "source": [
    "alphas = [0, 0.001, 0.005, 0.01, 0.05, 0.1]\n",
    "r2_y_pred = []\n",
    "\n",
    "for alpha in alphas:\n",
    "    md = sm.OLS(y_test, X_test)\n",
    "    reg = md.fit_regularized(method='elastic_net', \n",
    "                             refit=True, \n",
    "                             L1_wt=1,  # lasso fit\n",
    "                             alpha=alpha)\n",
    "    y_pred = reg.predict(X_test)\n",
    "    r2 = r2_score(y_test, y_pred)\n",
    "    \n",
    "    r2_y_pred.append(r2)\n",
    "    print(f'Alpha {alpha}: \\nR-squared = {r2}\\n')\n",
    "    \n",
    "pd.DataFrame({'alpha':alphas, \n",
    "              '𝑅2':r2_y_pred\n",
    "             }).sort_values(by='𝑅2', ascending=False)"
   ]
  },
  {
   "cell_type": "markdown",
   "metadata": {},
   "source": [
    "Todos os modelos tiverem melhor resultado, resultando em um R² de 0.299451 entre os modelos de regressão testados com regularização LASSO."
   ]
  },
  {
   "cell_type": "markdown",
   "metadata": {},
   "source": [
    "4. Rode um modelo stepwise. Avalie o  𝑅2 na fase de testes. Qual o melhor resultado?"
   ]
  },
  {
   "cell_type": "code",
   "execution_count": 19,
   "metadata": {},
   "outputs": [],
   "source": [
    "df_dummies = pd.get_dummies(data=prev_renda.dropna(), drop_first=True).astype(int)\n",
    "\n",
    "X = df_dummies.drop(columns='renda')\n",
    "y = df_dummies['renda']\n",
    "\n",
    "X_train, X_test, y_train, y_test = train_test_split(X, y, test_size=0.25, random_state=42)"
   ]
  },
  {
   "cell_type": "code",
   "execution_count": 20,
   "metadata": {},
   "outputs": [
    {
     "name": "stdout",
     "output_type": "stream",
     "text": [
      "Add  tempo_emprego                  with p-value 1.15416e-120\n",
      "#############\n",
      "['tempo_emprego']\n",
      "Add  sexo_M                         with p-value 1.97372e-116\n",
      "#############\n",
      "['tempo_emprego', 'sexo_M']\n",
      "Add  educacao_Superior completo     with p-value 0.00030172\n",
      "#############\n",
      "['tempo_emprego', 'sexo_M', 'educacao_Superior completo']\n",
      "Add  idade                          with p-value 0.000294673\n",
      "#############\n",
      "['tempo_emprego', 'sexo_M', 'educacao_Superior completo', 'idade']\n",
      "Add  posse_de_veiculo               with p-value 0.00268263\n",
      "#############\n",
      "['tempo_emprego', 'sexo_M', 'educacao_Superior completo', 'idade', 'posse_de_veiculo']\n",
      "Add  tipo_renda_Empresário          with p-value 0.0127891\n",
      "#############\n",
      "['tempo_emprego', 'sexo_M', 'educacao_Superior completo', 'idade', 'posse_de_veiculo', 'tipo_renda_Empresário']\n",
      "Add  qt_pessoas_residencia          with p-value 0.0167073\n",
      "#############\n",
      "['tempo_emprego', 'sexo_M', 'educacao_Superior completo', 'idade', 'posse_de_veiculo', 'tipo_renda_Empresário', 'qt_pessoas_residencia']\n",
      "Add  data_ref_2015-06-01            with p-value 0.0300333\n",
      "#############\n",
      "['tempo_emprego', 'sexo_M', 'educacao_Superior completo', 'idade', 'posse_de_veiculo', 'tipo_renda_Empresário', 'qt_pessoas_residencia', 'data_ref_2015-06-01']\n",
      "Add  tipo_residencia_Estúdio        with p-value 0.0325394\n",
      "#############\n",
      "['tempo_emprego', 'sexo_M', 'educacao_Superior completo', 'idade', 'posse_de_veiculo', 'tipo_renda_Empresário', 'qt_pessoas_residencia', 'data_ref_2015-06-01', 'tipo_residencia_Estúdio']\n",
      "#############\n",
      "['tempo_emprego', 'sexo_M', 'educacao_Superior completo', 'idade', 'posse_de_veiculo', 'tipo_renda_Empresário', 'qt_pessoas_residencia', 'data_ref_2015-06-01', 'tipo_residencia_Estúdio']\n",
      "\n",
      "\n",
      "resulting features:\n",
      "['tempo_emprego', 'sexo_M', 'educacao_Superior completo', 'idade', 'posse_de_veiculo', 'tipo_renda_Empresário', 'qt_pessoas_residencia', 'data_ref_2015-06-01', 'tipo_residencia_Estúdio']\n"
     ]
    }
   ],
   "source": [
    "def stepwise_selection(X, y, \n",
    "                       initial_list=[], \n",
    "                       threshold_in=0.05, \n",
    "                       threshold_out = 0.05, \n",
    "                       verbose=True):\n",
    "    \"\"\" Perform a forward-backward feature selection \n",
    "    based on p-value from statsmodels.api.OLS\n",
    "    Arguments:\n",
    "        X - pandas.DataFrame with candidate features\n",
    "        y - list-like with the target\n",
    "        initial_list - list of features to start with (column names of X)\n",
    "        threshold_in - include a feature if its p-value < threshold_in\n",
    "        threshold_out - exclude a feature if its p-value > threshold_out\n",
    "        verbose - whether to print the sequence of inclusions and exclusions\n",
    "    Returns: list of selected features \n",
    "    Always set threshold_in < threshold_out to avoid infinite looping.\n",
    "    See https://en.wikipedia.org/wiki/Stepwise_regression for the details\n",
    "    \"\"\"\n",
    "    included = list(initial_list)\n",
    "    while True:\n",
    "        changed=False\n",
    "        \n",
    "        # forward step\n",
    "        excluded = list(set(X.columns)-set(included))\n",
    "        new_pval = pd.Series(index=excluded, dtype=np.dtype('float64'))\n",
    "        for new_column in excluded:\n",
    "            model = sm.OLS(y, sm.add_constant(pd.DataFrame(X[included+[new_column]]))).fit()\n",
    "            new_pval[new_column] = model.pvalues[new_column]\n",
    "        best_pval = new_pval.min()\n",
    "        if best_pval < threshold_in:\n",
    "            best_feature = new_pval.index[new_pval.argmin()]\n",
    "            included.append(best_feature)\n",
    "            changed=True\n",
    "            if verbose:\n",
    "                 print('Add  {:30} with p-value {:.6}'.format(best_feature, best_pval))\n",
    "\n",
    "        # backward step\n",
    "        print(\"#############\")\n",
    "        print(included)\n",
    "        model = sm.OLS(y, sm.add_constant(pd.DataFrame(X[included]))).fit()\n",
    "        # use all coefs except intercept\n",
    "        pvalues = model.pvalues.iloc[1:]\n",
    "        worst_pval = pvalues.max() # null if pvalues is empty\n",
    "        if worst_pval > threshold_out:\n",
    "            changed=True\n",
    "            worst_feature = pvalues.argmax()\n",
    "            included.remove(worst_feature)\n",
    "            if verbose:\n",
    "                print('Drop {:30} with p-value {:.6}'.format(worst_feature, worst_pval))\n",
    "        if not changed:\n",
    "            break\n",
    "    return included\n",
    "\n",
    "variaveis = stepwise_selection(X_test, y_test)\n",
    "\n",
    "print('\\n\\nresulting features:')\n",
    "print(variaveis)"
   ]
  },
  {
   "cell_type": "code",
   "execution_count": 22,
   "metadata": {},
   "outputs": [
    {
     "name": "stdout",
     "output_type": "stream",
     "text": [
      "R-squared na fase de testes é 0.2994510060587444\n"
     ]
    }
   ],
   "source": [
    "X = df_dummies[variaveis]\n",
    "y = df_dummies['renda']\n",
    "X_train, X_test, y_train, y_test = train_test_split(X, y, test_size=0.25, random_state=42)\n",
    "\n",
    "y_pred = sm.OLS(y_test, X_test).fit().predict(X_test)\n",
    "print(f'R-squared na base de testes é {r2_score(y_test, y_pred)}')"
   ]
  },
  {
   "cell_type": "code",
   "execution_count": 23,
   "metadata": {},
   "outputs": [
    {
     "name": "stdout",
     "output_type": "stream",
     "text": [
      "R-squared na base de treino é 0.25044109397253045\n"
     ]
    }
   ],
   "source": [
    "X = df_dummies[variaveis]\n",
    "y = df_dummies['renda']\n",
    "X_train, X_test, y_train, y_test = train_test_split(X, y, test_size=0.75, random_state=42)\n",
    "\n",
    "y_pred = sm.OLS(y_train, X_train).fit().predict(X_train)\n",
    "print(f'R-squared na base de treino é {r2_score(y_train, y_pred)}')"
   ]
  },
  {
   "cell_type": "code",
   "execution_count": 24,
   "metadata": {},
   "outputs": [
    {
     "name": "stdout",
     "output_type": "stream",
     "text": [
      "Alpha 0: \n",
      "R-squared = 0.24802340450427973\n",
      "\n",
      "Alpha 0.001: \n",
      "R-squared = 0.24807451486522514\n",
      "\n",
      "Alpha 0.005: \n",
      "R-squared = 0.2482132969030879\n",
      "\n",
      "Alpha 0.01: \n",
      "R-squared = 0.24827541693169075\n",
      "\n",
      "Alpha 0.05: \n",
      "R-squared = 0.24612772428323226\n",
      "\n",
      "Alpha 0.1: \n",
      "R-squared = 0.24063395432504509\n",
      "\n"
     ]
    },
    {
     "data": {
      "text/html": [
       "<div>\n",
       "<style scoped>\n",
       "    .dataframe tbody tr th:only-of-type {\n",
       "        vertical-align: middle;\n",
       "    }\n",
       "\n",
       "    .dataframe tbody tr th {\n",
       "        vertical-align: top;\n",
       "    }\n",
       "\n",
       "    .dataframe thead th {\n",
       "        text-align: right;\n",
       "    }\n",
       "</style>\n",
       "<table border=\"1\" class=\"dataframe\">\n",
       "  <thead>\n",
       "    <tr style=\"text-align: right;\">\n",
       "      <th></th>\n",
       "      <th>alpha</th>\n",
       "      <th>𝑅2</th>\n",
       "    </tr>\n",
       "  </thead>\n",
       "  <tbody>\n",
       "    <tr>\n",
       "      <th>3</th>\n",
       "      <td>0.010</td>\n",
       "      <td>0.248275</td>\n",
       "    </tr>\n",
       "    <tr>\n",
       "      <th>2</th>\n",
       "      <td>0.005</td>\n",
       "      <td>0.248213</td>\n",
       "    </tr>\n",
       "    <tr>\n",
       "      <th>1</th>\n",
       "      <td>0.001</td>\n",
       "      <td>0.248075</td>\n",
       "    </tr>\n",
       "    <tr>\n",
       "      <th>0</th>\n",
       "      <td>0.000</td>\n",
       "      <td>0.248023</td>\n",
       "    </tr>\n",
       "    <tr>\n",
       "      <th>4</th>\n",
       "      <td>0.050</td>\n",
       "      <td>0.246128</td>\n",
       "    </tr>\n",
       "    <tr>\n",
       "      <th>5</th>\n",
       "      <td>0.100</td>\n",
       "      <td>0.240634</td>\n",
       "    </tr>\n",
       "  </tbody>\n",
       "</table>\n",
       "</div>"
      ],
      "text/plain": [
       "   alpha        𝑅2\n",
       "3  0.010  0.248275\n",
       "2  0.005  0.248213\n",
       "1  0.001  0.248075\n",
       "0  0.000  0.248023\n",
       "4  0.050  0.246128\n",
       "5  0.100  0.240634"
      ]
     },
     "execution_count": 24,
     "metadata": {},
     "output_type": "execute_result"
    }
   ],
   "source": [
    "alphas = [0, 0.001, 0.005, 0.01, 0.05, 0.1]\n",
    "r2_y_pred = []\n",
    "\n",
    "for alpha in alphas:\n",
    "    md = sm.OLS(y_train, X_train)\n",
    "    reg = md.fit_regularized(method='elastic_net', \n",
    "                             refit=True, \n",
    "                             L1_wt=0,  # ridge fit\n",
    "                             alpha=alpha)\n",
    "    y_pred = reg.predict(X_test)\n",
    "    r2 = r2_score(y_test, y_pred)\n",
    "    \n",
    "    r2_y_pred.append(r2)\n",
    "    print(f'Alpha {alpha}: \\nR-squared = {r2}\\n')\n",
    "    \n",
    "pd.DataFrame({'alpha':alphas, \n",
    "              '𝑅2':r2_y_pred\n",
    "             }).sort_values(by='𝑅2', ascending=False)"
   ]
  },
  {
   "cell_type": "code",
   "execution_count": 25,
   "metadata": {},
   "outputs": [
    {
     "name": "stdout",
     "output_type": "stream",
     "text": [
      "Alpha 0: \n",
      "R-squared = 0.24802340450427962\n",
      "\n",
      "Alpha 0.001: \n",
      "R-squared = 0.24802340450427962\n",
      "\n",
      "Alpha 0.005: \n",
      "R-squared = 0.24802340450427962\n",
      "\n",
      "Alpha 0.01: \n",
      "R-squared = 0.24802340450427962\n",
      "\n",
      "Alpha 0.05: \n",
      "R-squared = 0.24802340450427962\n",
      "\n",
      "Alpha 0.1: \n",
      "R-squared = 0.24802340450427962\n",
      "\n"
     ]
    },
    {
     "data": {
      "text/html": [
       "<div>\n",
       "<style scoped>\n",
       "    .dataframe tbody tr th:only-of-type {\n",
       "        vertical-align: middle;\n",
       "    }\n",
       "\n",
       "    .dataframe tbody tr th {\n",
       "        vertical-align: top;\n",
       "    }\n",
       "\n",
       "    .dataframe thead th {\n",
       "        text-align: right;\n",
       "    }\n",
       "</style>\n",
       "<table border=\"1\" class=\"dataframe\">\n",
       "  <thead>\n",
       "    <tr style=\"text-align: right;\">\n",
       "      <th></th>\n",
       "      <th>alpha</th>\n",
       "      <th>𝑅2</th>\n",
       "    </tr>\n",
       "  </thead>\n",
       "  <tbody>\n",
       "    <tr>\n",
       "      <th>0</th>\n",
       "      <td>0.000</td>\n",
       "      <td>0.248023</td>\n",
       "    </tr>\n",
       "    <tr>\n",
       "      <th>1</th>\n",
       "      <td>0.001</td>\n",
       "      <td>0.248023</td>\n",
       "    </tr>\n",
       "    <tr>\n",
       "      <th>2</th>\n",
       "      <td>0.005</td>\n",
       "      <td>0.248023</td>\n",
       "    </tr>\n",
       "    <tr>\n",
       "      <th>3</th>\n",
       "      <td>0.010</td>\n",
       "      <td>0.248023</td>\n",
       "    </tr>\n",
       "    <tr>\n",
       "      <th>4</th>\n",
       "      <td>0.050</td>\n",
       "      <td>0.248023</td>\n",
       "    </tr>\n",
       "    <tr>\n",
       "      <th>5</th>\n",
       "      <td>0.100</td>\n",
       "      <td>0.248023</td>\n",
       "    </tr>\n",
       "  </tbody>\n",
       "</table>\n",
       "</div>"
      ],
      "text/plain": [
       "   alpha        𝑅2\n",
       "0  0.000  0.248023\n",
       "1  0.001  0.248023\n",
       "2  0.005  0.248023\n",
       "3  0.010  0.248023\n",
       "4  0.050  0.248023\n",
       "5  0.100  0.248023"
      ]
     },
     "execution_count": 25,
     "metadata": {},
     "output_type": "execute_result"
    }
   ],
   "source": [
    "alphas = [0, 0.001, 0.005, 0.01, 0.05, 0.1]\n",
    "r2_y_pred = []\n",
    "\n",
    "for alpha in alphas:\n",
    "    md = sm.OLS(y_train, X_train)\n",
    "    reg = md.fit_regularized(method='elastic_net', \n",
    "                             refit=True, \n",
    "                             L1_wt=1,  # lasso fit\n",
    "                             alpha=alpha)\n",
    "    y_pred = reg.predict(X_test)\n",
    "    r2 = r2_score(y_test, y_pred)\n",
    "    \n",
    "    r2_y_pred.append(r2)\n",
    "    print(f'Alpha {alpha}: \\nR-squared = {r2}\\n')\n",
    "    \n",
    "pd.DataFrame({'alpha':alphas, \n",
    "              '𝑅2':r2_y_pred\n",
    "             }).sort_values(by='𝑅2', ascending=False)"
   ]
  },
  {
   "cell_type": "markdown",
   "metadata": {},
   "source": [
    "O melhor resultado entre os modelos de regressão testados na base de testes e treino foi o que apresentou o R² de 0.299451 com regularização LASSO e RIDGE."
   ]
  },
  {
   "cell_type": "markdown",
   "metadata": {},
   "source": [
    "5. Compare os parâmetros e avalie eventuais diferenças. Qual modelo você acha o melhor de todos?"
   ]
  },
  {
   "cell_type": "markdown",
   "metadata": {},
   "source": [
    "A meu ver o melhor modelo de todos foi o modelo de regressão testado com regularização LASSO onde todos os alphas verificados tiveram o mesmo R² 0.299451."
   ]
  },
  {
   "cell_type": "markdown",
   "metadata": {},
   "source": [
    "6. Partindo dos modelos que você ajustou, tente melhorar o  𝑅2 na base de testes. Use a criatividade, veja se consegue inserir alguma transformação ou combinação de variáveis.\n"
   ]
  },
  {
   "cell_type": "code",
   "execution_count": 29,
   "metadata": {},
   "outputs": [
    {
     "name": "stdout",
     "output_type": "stream",
     "text": [
      "                            OLS Regression Results                            \n",
      "==============================================================================\n",
      "Dep. Variable:          np.log(renda)   R-squared:                       0.363\n",
      "Model:                            OLS   Adj. R-squared:                  0.362\n",
      "Method:                 Least Squares   F-statistic:                     252.7\n",
      "Date:                Tue, 02 Jul 2024   Prob (F-statistic):          3.05e-298\n",
      "Time:                        10:12:58   Log-Likelihood:                -3388.8\n",
      "No. Observations:                3107   AIC:                             6794.\n",
      "Df Residuals:                    3100   BIC:                             6842.\n",
      "Df Model:                           7                                         \n",
      "Covariance Type:            nonrobust                                         \n",
      "==============================================================================================\n",
      "                                 coef    std err          t      P>|t|      [0.025      0.975]\n",
      "----------------------------------------------------------------------------------------------\n",
      "Intercept                      7.1241      0.078     91.187      0.000       6.971       7.277\n",
      "tempo_emprego                  0.0638      0.002     30.450      0.000       0.060       0.068\n",
      "sexo_M                         0.8126      0.027     29.673      0.000       0.759       0.866\n",
      "educacao_Superior_completo     0.1108      0.027      4.100      0.000       0.058       0.164\n",
      "idade                          0.0058      0.002      3.810      0.000       0.003       0.009\n",
      "tipo_renda_Empresário          0.1244      0.029      4.338      0.000       0.068       0.181\n",
      "qt_pessoas_residencia          0.0275      0.014      2.023      0.043       0.001       0.054\n",
      "==============================================================================\n",
      "Omnibus:                        0.404   Durbin-Watson:                   2.035\n",
      "Prob(Omnibus):                  0.817   Jarque-Bera (JB):                0.455\n",
      "Skew:                           0.019   Prob(JB):                        0.797\n",
      "Kurtosis:                       2.954   Cond. No.                         258.\n",
      "==============================================================================\n",
      "\n",
      "Notes:\n",
      "[1] Standard Errors assume that the covariance matrix of the errors is correctly specified.\n",
      "\n",
      "Coeficiente de determinação (𝑅2) na base de testes: 0.29983096640555373\n"
     ]
    }
   ],
   "source": [
    "# usando as variáveis da função stepwise_selection ---> resulting features:\n",
    "\n",
    "df_matrix = df_dummies.loc[:, variaveis + ['renda']]\n",
    "df_matrix.rename(columns={'educacao_Superior completo': 'educacao_Superior_completo'}, \n",
    "                 inplace=True)\n",
    "\n",
    "df_train, df_test = train_test_split(df_matrix, test_size=0.25, random_state=42)\n",
    "\n",
    "modelo = smf.ols(formula='''\n",
    "                         np.log(renda) ~ tempo_emprego \n",
    "                                         + sexo_M \n",
    "                                         + educacao_Superior_completo\n",
    "                                         + idade \n",
    "                                         - posse_de_veiculo \n",
    "                                         + tipo_renda_Empresário \n",
    "                                         + qt_pessoas_residencia\n",
    "                                         - tipo_residencia_Estúdio\n",
    "                                         ''', data=df_test)\n",
    "\n",
    "reg = modelo.fit_regularized(method='elastic_net', \n",
    "                             refit=True, \n",
    "                             L1_wt=1,\n",
    "                             alpha=0)\n",
    "\n",
    "print(reg.summary())\n",
    "\n",
    "y_pred = reg.predict(df_test)\n",
    "print('\\nCoeficiente de determinação (𝑅2) na base de testes:', \n",
    "      r2_score(df_test['renda'], \n",
    "               np.exp(y_pred)\n",
    "              )\n",
    "     )"
   ]
  },
  {
   "cell_type": "markdown",
   "metadata": {},
   "source": [
    "7. Ajuste uma árvore de regressão e veja se consegue um  𝑅2 melhor com ela."
   ]
  },
  {
   "cell_type": "code",
   "execution_count": 30,
   "metadata": {},
   "outputs": [
    {
     "data": {
      "text/html": [
       "<style>#sk-container-id-2 {color: black;}#sk-container-id-2 pre{padding: 0;}#sk-container-id-2 div.sk-toggleable {background-color: white;}#sk-container-id-2 label.sk-toggleable__label {cursor: pointer;display: block;width: 100%;margin-bottom: 0;padding: 0.3em;box-sizing: border-box;text-align: center;}#sk-container-id-2 label.sk-toggleable__label-arrow:before {content: \"▸\";float: left;margin-right: 0.25em;color: #696969;}#sk-container-id-2 label.sk-toggleable__label-arrow:hover:before {color: black;}#sk-container-id-2 div.sk-estimator:hover label.sk-toggleable__label-arrow:before {color: black;}#sk-container-id-2 div.sk-toggleable__content {max-height: 0;max-width: 0;overflow: hidden;text-align: left;background-color: #f0f8ff;}#sk-container-id-2 div.sk-toggleable__content pre {margin: 0.2em;color: black;border-radius: 0.25em;background-color: #f0f8ff;}#sk-container-id-2 input.sk-toggleable__control:checked~div.sk-toggleable__content {max-height: 200px;max-width: 100%;overflow: auto;}#sk-container-id-2 input.sk-toggleable__control:checked~label.sk-toggleable__label-arrow:before {content: \"▾\";}#sk-container-id-2 div.sk-estimator input.sk-toggleable__control:checked~label.sk-toggleable__label {background-color: #d4ebff;}#sk-container-id-2 div.sk-label input.sk-toggleable__control:checked~label.sk-toggleable__label {background-color: #d4ebff;}#sk-container-id-2 input.sk-hidden--visually {border: 0;clip: rect(1px 1px 1px 1px);clip: rect(1px, 1px, 1px, 1px);height: 1px;margin: -1px;overflow: hidden;padding: 0;position: absolute;width: 1px;}#sk-container-id-2 div.sk-estimator {font-family: monospace;background-color: #f0f8ff;border: 1px dotted black;border-radius: 0.25em;box-sizing: border-box;margin-bottom: 0.5em;}#sk-container-id-2 div.sk-estimator:hover {background-color: #d4ebff;}#sk-container-id-2 div.sk-parallel-item::after {content: \"\";width: 100%;border-bottom: 1px solid gray;flex-grow: 1;}#sk-container-id-2 div.sk-label:hover label.sk-toggleable__label {background-color: #d4ebff;}#sk-container-id-2 div.sk-serial::before {content: \"\";position: absolute;border-left: 1px solid gray;box-sizing: border-box;top: 0;bottom: 0;left: 50%;z-index: 0;}#sk-container-id-2 div.sk-serial {display: flex;flex-direction: column;align-items: center;background-color: white;padding-right: 0.2em;padding-left: 0.2em;position: relative;}#sk-container-id-2 div.sk-item {position: relative;z-index: 1;}#sk-container-id-2 div.sk-parallel {display: flex;align-items: stretch;justify-content: center;background-color: white;position: relative;}#sk-container-id-2 div.sk-item::before, #sk-container-id-2 div.sk-parallel-item::before {content: \"\";position: absolute;border-left: 1px solid gray;box-sizing: border-box;top: 0;bottom: 0;left: 50%;z-index: -1;}#sk-container-id-2 div.sk-parallel-item {display: flex;flex-direction: column;z-index: 1;position: relative;background-color: white;}#sk-container-id-2 div.sk-parallel-item:first-child::after {align-self: flex-end;width: 50%;}#sk-container-id-2 div.sk-parallel-item:last-child::after {align-self: flex-start;width: 50%;}#sk-container-id-2 div.sk-parallel-item:only-child::after {width: 0;}#sk-container-id-2 div.sk-dashed-wrapped {border: 1px dashed gray;margin: 0 0.4em 0.5em 0.4em;box-sizing: border-box;padding-bottom: 0.4em;background-color: white;}#sk-container-id-2 div.sk-label label {font-family: monospace;font-weight: bold;display: inline-block;line-height: 1.2em;}#sk-container-id-2 div.sk-label-container {text-align: center;}#sk-container-id-2 div.sk-container {/* jupyter's `normalize.less` sets `[hidden] { display: none; }` but bootstrap.min.css set `[hidden] { display: none !important; }` so we also need the `!important` here to be able to override the default hidden behavior on the sphinx rendered scikit-learn.org. See: https://github.com/scikit-learn/scikit-learn/issues/21755 */display: inline-block !important;position: relative;}#sk-container-id-2 div.sk-text-repr-fallback {display: none;}</style><div id=\"sk-container-id-2\" class=\"sk-top-container\"><div class=\"sk-text-repr-fallback\"><pre>DecisionTreeRegressor(max_depth=5, min_samples_leaf=13, random_state=42)</pre><b>In a Jupyter environment, please rerun this cell to show the HTML representation or trust the notebook. <br />On GitHub, the HTML representation is unable to render, please try loading this page with nbviewer.org.</b></div><div class=\"sk-container\" hidden><div class=\"sk-item\"><div class=\"sk-estimator sk-toggleable\"><input class=\"sk-toggleable__control sk-hidden--visually\" id=\"sk-estimator-id-2\" type=\"checkbox\" checked><label for=\"sk-estimator-id-2\" class=\"sk-toggleable__label sk-toggleable__label-arrow\">DecisionTreeRegressor</label><div class=\"sk-toggleable__content\"><pre>DecisionTreeRegressor(max_depth=5, min_samples_leaf=13, random_state=42)</pre></div></div></div></div></div>"
      ],
      "text/plain": [
       "DecisionTreeRegressor(max_depth=5, min_samples_leaf=13, random_state=42)"
      ]
     },
     "execution_count": 30,
     "metadata": {},
     "output_type": "execute_result"
    }
   ],
   "source": [
    "X = df_dummies[variaveis]\n",
    "y = df_dummies['renda']\n",
    "\n",
    "X_train, X_test, y_train, y_test = train_test_split(X, y, test_size=0.25, random_state=42)\n",
    "\n",
    "reg_tree = DecisionTreeRegressor(random_state=42, max_depth=5, min_samples_leaf=13)\n",
    "reg_tree.fit(X_train, y_train)"
   ]
  },
  {
   "cell_type": "code",
   "execution_count": 31,
   "metadata": {},
   "outputs": [
    {
     "name": "stdout",
     "output_type": "stream",
     "text": [
      "Coeficiente de determinação (𝑅2) na base de testes: 0.389085096059829\n"
     ]
    }
   ],
   "source": [
    "print('Coeficiente de determinação (𝑅2) na base de testes:', \n",
    "      reg_tree.score(X=X_test, y=y_test))"
   ]
  }
 ],
 "metadata": {
  "kernelspec": {
   "display_name": "Python 3 (ipykernel)",
   "language": "python",
   "name": "python3"
  },
  "language_info": {
   "codemirror_mode": {
    "name": "ipython",
    "version": 3
   },
   "file_extension": ".py",
   "mimetype": "text/x-python",
   "name": "python",
   "nbconvert_exporter": "python",
   "pygments_lexer": "ipython3",
   "version": "3.11.4"
  }
 },
 "nbformat": 4,
 "nbformat_minor": 4
}
