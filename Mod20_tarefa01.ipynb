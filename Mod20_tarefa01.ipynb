{
 "cells": [
  {
   "cell_type": "markdown",
   "metadata": {
    "id": "s1SoOR6N0PiQ"
   },
   "source": [
    "<img src=\"https://raw.githubusercontent.com/rhatiro/Curso_EBAC-Profissao_Cientista_de_Dados/main/ebac-course-utils/media/logo/newebac_logo_black_half.png\" alt=\"ebac-logo\">\n",
    "\n",
    "---\n",
    "\n",
    "# **Profissão: Cientista de Dados**\n",
    "### **Módulo 20** | Exercício 1 - Markdown\n",
    "\n",
    "Aluno [Lays Félix](https://www.linkedin.com/in/laysfelixbusiness)<br>\n",
    "Data: 29 de agosto de 2024\n",
    "\n",
    "---"
   ]
  },
  {
   "cell_type": "markdown",
   "metadata": {
    "id": "xaxY2ZMx0Pij"
   },
   "source": [
    "### Fórmula de Bhaskara\n",
    "\n",
    "<br>\n",
    "A solução para uma função de segundo grau depende das suas raízes (valores de x). Como já vimos, os coeficientes\n",
    "precisam ser números reais e o angular diferente de zero. Sendo assim, temos a seguinte fórmula de Bhaskara:<br>\n",
    "<br>\n",
    "\n",
    "### $$ x = \\frac{-b \\pm \\sqrt{b^{2} - 4.a.c}}{2.a} $$\n",
    "\n",
    "                                                        Fórmula de Bhaskara\n",
    "\n",
    "<br>\n",
    "Para melhor compreensão o seu cálculo é dividido em duas partes:discriminante da equação e operações para \n",
    "determinar as raízes.<br>\n",
    "<br>\n",
    "\n",
    "**Discriminante**\n",
    "<br>\n",
    "\n",
    "A figura dentro da raiz na fórmula de Bhaskara é nomeada de discriminante. Seu símbolo é a letra grega delta e \n",
    "apresenta a determinanda fórmula:<br><br>\n",
    "\n",
    "### $$\n",
    "\\Delta = b^{2}-4.a.c\n",
    "$$\n",
    "\n",
    "\n",
    "                                                     Fórmula da discriminante\n",
    "\n",
    "<br>\n",
    "\n",
    "* Se o delta for maior que zero, a equação terá dois valores reais e distintos.\n",
    "* Se o delta for igual a zero, a equação terá somente um valor real ou dois resultados iguais.\n",
    "* Se o delta for menor que zero, a equação não possuirá valores reais."
   ]
  },
  {
   "cell_type": "code",
   "execution_count": null,
   "metadata": {},
   "outputs": [],
   "source": []
  }
 ],
 "metadata": {
  "colab": {
   "provenance": []
  },
  "kernelspec": {
   "display_name": "Python 3 (ipykernel)",
   "language": "python",
   "name": "python3"
  },
  "language_info": {
   "codemirror_mode": {
    "name": "ipython",
    "version": 3
   },
   "file_extension": ".py",
   "mimetype": "text/x-python",
   "name": "python",
   "nbconvert_exporter": "python",
   "pygments_lexer": "ipython3",
   "version": "3.11.4"
  },
  "varInspector": {
   "cols": {
    "lenName": 16,
    "lenType": 16,
    "lenVar": 40
   },
   "kernels_config": {
    "python": {
     "delete_cmd_postfix": "",
     "delete_cmd_prefix": "del ",
     "library": "var_list.py",
     "varRefreshCmd": "print(var_dic_list())"
    },
    "r": {
     "delete_cmd_postfix": ") ",
     "delete_cmd_prefix": "rm(",
     "library": "var_list.r",
     "varRefreshCmd": "cat(var_dic_list()) "
    }
   },
   "types_to_exclude": [
    "module",
    "function",
    "builtin_function_or_method",
    "instance",
    "_Feature"
   ],
   "window_display": false
  }
 },
 "nbformat": 4,
 "nbformat_minor": 1
}
